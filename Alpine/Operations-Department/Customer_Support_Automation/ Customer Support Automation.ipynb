{
 "cells": [
  {
   "cell_type": "markdown",
   "id": "054de78c-daef-4214-b552-40deacd92485",
   "metadata": {},
   "source": [
    "# Customer Support Multi-Agent System\n",
    "\n",
    "Key six key elements which help make Agents perform even better:\n",
    "- Role Playing\n",
    "- Focus\n",
    "- Tools\n",
    "- Cooperation\n",
    "- Guardrails\n",
    "- Memory"
   ]
  },
  {
   "cell_type": "markdown",
   "id": "fd80f957-2559-41eb-a48c-b838c5479166",
   "metadata": {},
   "source": [
    "## Step 01. Installing CrewAI and Tools\n",
    "\n",
    "To install crewAI, we need to have Python >=3.10 and <=3.13 installed on your system:"
   ]
  },
  {
   "cell_type": "code",
   "execution_count": null,
   "id": "69e6928c-041f-4e65-b7c5-241140d90659",
   "metadata": {},
   "outputs": [],
   "source": [
    "import sys\n",
    "print(sys.version)"
   ]
  },
  {
   "cell_type": "code",
   "execution_count": null,
   "id": "5daa5a51-3a3b-42e3-90dc-43991bc32d3e",
   "metadata": {
    "scrolled": true
   },
   "outputs": [],
   "source": [
    "pip install crewai"
   ]
  },
  {
   "cell_type": "code",
   "execution_count": null,
   "id": "fb505043-51f5-4ffa-9657-1e2b642cfdfb",
   "metadata": {
    "scrolled": true
   },
   "outputs": [],
   "source": [
    "pip install 'crewai[tools]'"
   ]
  },
  {
   "cell_type": "code",
   "execution_count": null,
   "id": "30680258-a101-48f3-8e9a-f14aab00ab26",
   "metadata": {},
   "outputs": [],
   "source": [
    "# Warning control\n",
    "import warnings\n",
    "warnings.filterwarnings('ignore')"
   ]
  },
  {
   "cell_type": "markdown",
   "id": "e9260693-fbf1-499c-9dfd-e9374174b420",
   "metadata": {},
   "source": [
    "## Step 02. Importing Libraries, API and LLMs"
   ]
  },
  {
   "cell_type": "code",
   "execution_count": null,
   "id": "2da868a1-7314-4e51-9ce6-d5d2637fc0ad",
   "metadata": {},
   "outputs": [],
   "source": [
    "from crewai import Agent, Task, Crew"
   ]
  },
  {
   "cell_type": "code",
   "execution_count": null,
   "id": "73d8cbbd-4205-42bd-974c-0900eb42a475",
   "metadata": {},
   "outputs": [],
   "source": [
    "# setting the open ai model name as environment variable\n",
    "import os\n",
    "\n",
    "openai_api_key = \"Your OPEN AI API KEY\"\n",
    "os.environ[\"OPENAI_API_KEY\"] = openai_api_key\n",
    "os.environ[\"OPENAI_MODEL_NAME\"] = 'gpt-3.5-turbo'"
   ]
  },
  {
   "cell_type": "markdown",
   "id": "f6d117e1-4c3d-4e67-9b48-f1908c361546",
   "metadata": {},
   "source": [
    "## Step 03. Creating Agent (with role, focus, cooperation)"
   ]
  },
  {
   "cell_type": "markdown",
   "id": "cff3fdcd-c4ae-421a-a256-8fc109edda1d",
   "metadata": {},
   "source": [
    "### Customer Support Agent "
   ]
  },
  {
   "cell_type": "code",
   "execution_count": null,
   "id": "d5991271-2bab-4709-8f7d-d4d493ef48bc",
   "metadata": {},
   "outputs": [],
   "source": [
    "customer_support_agent = Agent(\n",
    "    role=\"Senior Customer Support Representative\",\n",
    "    goal=\"Be the most friendly and helpful \"\n",
    "        \"customer support representative in your team\",\n",
    "    backstory=(\n",
    "\t\t\"You work at crewAI (https://crewai.com) and \"\n",
    "        \" are now working on providing customer\"\n",
    "\t\t\"support to {customer}, a super important customer \"\n",
    "        \" for your company.\"\n",
    "\t\t\"You need to make sure that you provide the best support!\"\n",
    "\t\t\"Make sure to provide full complete answers, \"\n",
    "        \" and make no assumptions.\"\n",
    "\t),\n",
    "    allow_delegration=False, # by default, allow_delegration=True\n",
    "    verbose=True\n",
    ")"
   ]
  },
  {
   "cell_type": "markdown",
   "id": "8738b48b-3a11-419b-978b-53d85d8e6460",
   "metadata": {},
   "source": [
    "`allow_delegation=False` because we don't want the customer support agent to delegate its work to another agent</li>"
   ]
  },
  {
   "cell_type": "markdown",
   "id": "ed514461-0551-450b-aaf0-132433b52ca1",
   "metadata": {},
   "source": [
    "### Support Quality Assurance Agent\n",
    "\n",
    "This agent is responsible for fact checking everything customer support agent says. Ensuring the customer support agent produces best possible response.\n",
    "It can delegate task to customer agent (if required)"
   ]
  },
  {
   "cell_type": "code",
   "execution_count": null,
   "id": "228aae49-5f0a-4ed6-a524-fe69081f6bcb",
   "metadata": {},
   "outputs": [],
   "source": [
    "quality_assurance_agent = Agent(\n",
    "    role=\"Support Quality Assurance Specialist\",\n",
    "    goal=\"Get recognition for providing the \"\n",
    "    \"best support quality assurance in your team\",\n",
    "    backstory=(\n",
    "\t\t\"You work at crewAI (https://crewai.com) and \"\n",
    "        \"are now working with your team \"\n",
    "\t\t\"on a request from {customer} ensuring that \"\n",
    "        \"the support representative is \"\n",
    "\t\t\"providing the best support possible.\\n\"\n",
    "\t\t\"You need to make sure that the support representative \"\n",
    "        \"is providing full\"\n",
    "\t\t\"complete answers, and make no assumptions.\"\n",
    "\t),\n",
    "    verbose=True\n",
    ")"
   ]
  },
  {
   "cell_type": "code",
   "execution_count": null,
   "id": "4f76d819-04be-4657-b5eb-3c5569ac3cb0",
   "metadata": {},
   "outputs": [],
   "source": [
    "from IPython.display import Image\n",
    "Image(\"img/delegation.png\")"
   ]
  },
  {
   "cell_type": "markdown",
   "id": "27bf69bb-deb6-4df0-b9f2-50f3c00258f2",
   "metadata": {},
   "source": [
    "* **Role Playing**: Both agents have been given a role, goal and backstory.\n",
    "* **Focus**: Both agents have been prompted to get into the character of the roles they are playing.\n",
    "* **Cooperation**: Support Quality Assurance Agent can delegate work back to the Support Agent, allowing for these agents to work together."
   ]
  },
  {
   "cell_type": "markdown",
   "id": "11d0a03b-6a1f-4ae6-8399-83e46c32903f",
   "metadata": {},
   "source": [
    "## Step 04. Forming Task with Tools, Gaurdrails and Agents"
   ]
  },
  {
   "cell_type": "markdown",
   "id": "33ca9380-4efd-4a73-9ff3-3db73484f30b",
   "metadata": {},
   "source": [
    "- Import CrewAI tools"
   ]
  },
  {
   "cell_type": "code",
   "execution_count": null,
   "id": "c06e7acf-fcbb-469f-953e-b9e53a868467",
   "metadata": {},
   "outputs": [],
   "source": [
    "from crewai_tools import SerperDevTool, \\\n",
    "                         ScrapeWebsiteTool, \\\n",
    "                         WebsiteSearchTool"
   ]
  },
  {
   "cell_type": "markdown",
   "id": "6792ec63-70cf-44fd-a957-2c47ef8f1664",
   "metadata": {},
   "source": [
    "* **SerperDevTool**: Do Google Search and get relevant search results\n",
    "* **ScrapeWebsiteTool**: Web scraping and data collection\n",
    "* **WebsiteSearchTool**: semantic searches within website content."
   ]
  },
  {
   "cell_type": "markdown",
   "id": "831099fc-887b-46c2-b36b-6aa39c5f43eb",
   "metadata": {},
   "source": [
    "- Some ways of using CrewAI tools.\n",
    "\n",
    "```Python\n",
    "search_tool = SerperDevTool()\n",
    "scrape_tool = ScrapeWebsiteTool()\n",
    "```"
   ]
  },
  {
   "cell_type": "markdown",
   "id": "9b8c1d1f-3cd0-4c87-a9c2-ae297f13710a",
   "metadata": {},
   "source": [
    "- Instantiate a document scraper tool.\n",
    "- The tool will scrape a page (only 1 URL) of the CrewAI documentation."
   ]
  },
  {
   "cell_type": "code",
   "execution_count": null,
   "id": "50c73aae-e8be-4f09-87dc-f1823798beb2",
   "metadata": {},
   "outputs": [],
   "source": [
    "docs_scrape_tool = ScrapeWebsiteTool(\n",
    "    website_url=\"https://docs.crewai.com/how-to/Creating-a-Crew-and-kick-it-off/\"\n",
    ")"
   ]
  },
  {
   "cell_type": "markdown",
   "id": "47ea516d-f63b-4a07-8711-76d358595af7",
   "metadata": {},
   "source": [
    "#### Different ways to assign Tools\n",
    "\n",
    "- Agent Level : Agents can use Tool(s) on any of the task they perform\n",
    "- Task Level : Agents will only use task level tool(s) to perform task\n",
    "\n",
    "**NOTE**: Task Tools override Agent Tools"
   ]
  },
  {
   "cell_type": "markdown",
   "id": "012277b5-9202-49bb-a258-c5e3f4786d11",
   "metadata": {},
   "source": [
    "### Creating Tasks\n",
    "- Passing docs_scrape_tool on the Task Level."
   ]
  },
  {
   "cell_type": "code",
   "execution_count": null,
   "id": "2fec1e31-d1b8-4455-87e3-83b7a5e44e80",
   "metadata": {},
   "outputs": [],
   "source": [
    "inquiry_resolution = Task(\n",
    "    description=(\n",
    "        \"{customer} just reached out with a super important ask:\\n\"\n",
    "\t    \"{inquiry}\\n\\n\"\n",
    "        \"{person} from {customer} is the one that reached out. \"\n",
    "\t\t\"Make sure to use everything you know \"\n",
    "        \"to provide the best support possible.\"\n",
    "\t\t\"You must strive to provide a complete \"\n",
    "        \"and accurate response to the customer's inquiry.\"\n",
    "    ),\n",
    "    expected_output=(\n",
    "\t    \"A detailed, informative response to the \"\n",
    "        \"customer's inquiry that addresses \"\n",
    "        \"all aspects of their question.\\n\"\n",
    "        \"The response should include references \"\n",
    "        \"to everything you used to find the answer, \"\n",
    "        \"including external data or solutions. \"\n",
    "        \"Ensure the answer is complete, \"\n",
    "\t\t\"leaving no questions unanswered, and maintain a helpful and friendly \"\n",
    "\t\t\"tone throughout.\"\n",
    "    ),\n",
    "    agent=customer_support_agent,\n",
    "    tools=[docs_scrape_tool]\n",
    ")"
   ]
  },
  {
   "cell_type": "markdown",
   "id": "434aad25-256e-45b3-b570-f7ab15898820",
   "metadata": {},
   "source": [
    "* QA agent is not using any tool\n",
    "* It will only review the work done by the customer support agent"
   ]
  },
  {
   "cell_type": "code",
   "execution_count": null,
   "id": "23c45d4e-7e95-4384-abc5-f07ddc0882e4",
   "metadata": {},
   "outputs": [],
   "source": [
    "quality_assurance_review = Task(\n",
    "    description=(\n",
    "        \"Review the response drafted by the Senior Support Representative for {customer}'s inquiry. \"\n",
    "        \"Ensure that the answer is comprehensive, accurate, and adheres to the \"\n",
    "\t\t\"high-quality standards expected for customer support.\\n\"\n",
    "        \"Verify that all parts of the customer's inquiry \"\n",
    "        \"have been addressed \"\n",
    "\t\t\"thoroughly, with a helpful and friendly tone.\\n\"\n",
    "        \"Check for references and sources used to \"\n",
    "        \" find the information, \"\n",
    "\t\t\"ensuring the response is well-supported and \"\n",
    "        \"leaves no questions unanswered.\"\n",
    "    ),\n",
    "    expected_output=(\n",
    "        \"A final, detailed, and informative response \"\n",
    "        \"ready to be sent to the customer.\\n\"\n",
    "        \"This response should fully address the \"\n",
    "        \"customer's inquiry, incorporating all \"\n",
    "\t\t\"relevant feedback and improvements.\\n\"\n",
    "\t\t\"Don't be too formal, we are a chill and cool company \"\n",
    "\t    \"but maintain a professional and friendly tone throughout.\"\n",
    "    ),\n",
    "    agent=quality_assurance_agent,\n",
    ")"
   ]
  },
  {
   "cell_type": "markdown",
   "id": "ae8f4935-623f-449a-86d1-c9af72c8f4f1",
   "metadata": {},
   "source": [
    "## Step 05. Creating Crew (with Memory)\n",
    "\n",
    "#### Memory\n",
    "- Setting `memory=True` when putting the crew together enables all kinds of memory."
   ]
  },
  {
   "cell_type": "code",
   "execution_count": null,
   "id": "b2d0a7df-b52e-49a2-922c-fbdd30df022d",
   "metadata": {},
   "outputs": [],
   "source": [
    "crew = Crew(\n",
    "    agents=[customer_support_agent, quality_assurance_agent],\n",
    "    tasks=[inquiry_resolution, quality_assurance_review],\n",
    "    verbose=2,\n",
    "    memory=True\n",
    ")"
   ]
  },
  {
   "cell_type": "markdown",
   "id": "72fb2872-2456-4850-9108-547386a8845b",
   "metadata": {},
   "source": [
    "#### Running the Crew\n",
    "\n",
    "**Note**: LLMs can provide different outputs for they same input, so what you get might be different than what you see in the video.\n",
    "\n",
    "#### Guardrails\n",
    "- By running the execution below, you can see that the agents and the responses are within the scope of what we expect from them."
   ]
  },
  {
   "cell_type": "code",
   "execution_count": null,
   "id": "2f61e10f-04d9-4eb3-a671-cb609f45ac03",
   "metadata": {},
   "outputs": [],
   "source": [
    "inputs = {\n",
    "    \"customer\": \"DeepLearningAI\",\n",
    "    \"person\": \"Andrew Ng\",\n",
    "    \"inquiry\": \"I need help with setting up a Crew \"\n",
    "               \"and kicking it off, specifically \"\n",
    "               \"how can I add memory to my crew? \"\n",
    "               \"Can you provide guidance?\"\n",
    "}\n",
    "result = crew.kickoff(inputs=inputs)"
   ]
  },
  {
   "cell_type": "markdown",
   "id": "d8879d34-dbf7-4d72-8066-373c41720d65",
   "metadata": {},
   "source": [
    "- Display the final result as Markdown."
   ]
  },
  {
   "cell_type": "code",
   "execution_count": null,
   "id": "cc6f3bdf-dfc7-4f32-bab8-273a6a8c90ea",
   "metadata": {},
   "outputs": [],
   "source": [
    "from IPython.display import Markdown\n",
    "Markdown(result)"
   ]
  },
  {
   "cell_type": "code",
   "execution_count": null,
   "id": "9aa0792b-fc71-4775-b3b7-17fedc634479",
   "metadata": {},
   "outputs": [],
   "source": []
  }
 ],
 "metadata": {
  "kernelspec": {
   "display_name": "Python 3.12.1",
   "language": "python",
   "name": "python312"
  },
  "language_info": {
   "codemirror_mode": {
    "name": "ipython",
    "version": 3
   },
   "file_extension": ".py",
   "mimetype": "text/x-python",
   "name": "python",
   "nbconvert_exporter": "python",
   "pygments_lexer": "ipython3",
   "version": "3.12.3"
  }
 },
 "nbformat": 4,
 "nbformat_minor": 5
}
{
 "cells": [
  {
   "cell_type": "markdown",
   "id": "f97d878a-4933-4ccf-90dc-c34d794bb725",
   "metadata": {},
   "source": [
    "# Job Application Booster \n",
    "## using crewAI's Muti-Agent System"
   ]
  },
  {
   "cell_type": "markdown",
   "id": "2de77b8a-433d-4177-a71b-fef9048f68d2",
   "metadata": {},
   "source": [
    "#### Goal\n",
    "\n",
    "Maximize chances of getting an interview call for a particular job posting"
   ]
  },
  {
   "cell_type": "markdown",
   "id": "6479c4d7-c135-410e-aad3-4b3553f1edfe",
   "metadata": {},
   "source": [
    "#### Process\n",
    "\n",
    "- Learn about Job Requirements\n",
    "- Match skillset and experience with Job Requirements\n",
    "- Reshape Resume to highlight relevant areas\n",
    "- Rewrite Resume with appropriate language\n",
    "- Set talking points for the technical interview"
   ]
  },
  {
   "cell_type": "markdown",
   "id": "60c4ea1b-add1-43c9-904b-2a06297adc3b",
   "metadata": {},
   "source": [
    "## Step 01. Intalling the libraries (crewai and crewai_tools)\n",
    "\n",
    "**Note:** crewAI requires Python version >=3.10 and <=3.13"
   ]
  },
  {
   "cell_type": "code",
   "execution_count": null,
   "id": "5ceaf4ea-01e5-41ba-9724-49eb6639938e",
   "metadata": {},
   "outputs": [],
   "source": [
    "import sys\n",
    "print(sys.version)"
   ]
  },
  {
   "cell_type": "code",
   "execution_count": null,
   "id": "725af8ae-cf2c-4930-9436-79e5adce52d5",
   "metadata": {
    "scrolled": true
   },
   "outputs": [],
   "source": [
    "!pip install crewai"
   ]
  },
  {
   "cell_type": "code",
   "execution_count": null,
   "id": "1b673e95-cb25-46ff-95b1-0892763f8409",
   "metadata": {
    "scrolled": true
   },
   "outputs": [],
   "source": [
    "!pip install crewai_tools"
   ]
  },
  {
   "cell_type": "code",
   "execution_count": null,
   "id": "c2512ae4-c543-4a0d-8751-c5d4cfed9d75",
   "metadata": {},
   "outputs": [],
   "source": [
    "# Warning control\n",
    "import warnings\n",
    "warnings.filterwarnings('ignore')"
   ]
  },
  {
   "cell_type": "markdown",
   "id": "9f8a52ce-1972-462e-8763-fcfd40c7b192",
   "metadata": {},
   "source": [
    "## Step 02. Importing modules, LLMs, Tools \n",
    "\n",
    "**Note 1:** To use Agent class, we need to specify the openai model name and openai api key in the env. variables of os module\n",
    "\n",
    "**Note 2:** To use SerperDevTool by crewai_tools, we need to specify serper api key in the env. variables of os module"
   ]
  },
  {
   "cell_type": "code",
   "execution_count": null,
   "id": "db6d93ba-8c8e-4fee-b3d9-02f59c420864",
   "metadata": {},
   "outputs": [],
   "source": [
    "import os"
   ]
  },
  {
   "cell_type": "code",
   "execution_count": null,
   "id": "3a643259-0625-4154-a682-9acc351196c3",
   "metadata": {},
   "outputs": [],
   "source": [
    "os.environ[\"OPENAI_MODEL_NAME\"] = \"gpt-4-turbo\"\n",
    "os.environ[\"OPENAI_API_KEY\"] = \"Your OPEN AI API key\"\n",
    "os.environ[\"SERPER_API_KEY\"] = \"Your Serper API key\""
   ]
  },
  {
   "cell_type": "code",
   "execution_count": null,
   "id": "6ed03e05-c49f-48fb-bb58-320b8342a372",
   "metadata": {},
   "outputs": [],
   "source": [
    "from crewai import Agent, Task, Crew"
   ]
  },
  {
   "cell_type": "markdown",
   "id": "b91aaeed-9623-425e-9046-e1858957e3f3",
   "metadata": {},
   "source": [
    "### CrewAI Tools"
   ]
  },
  {
   "cell_type": "code",
   "execution_count": null,
   "id": "aefea421-815b-479e-ae12-0d907f873bfe",
   "metadata": {},
   "outputs": [],
   "source": [
    "from crewai_tools import SerperDevTool, ScrapeWebsiteTool, FileReadTool, MDXSearchTool"
   ]
  },
  {
   "cell_type": "code",
   "execution_count": null,
   "id": "47c7e8a3-5c7a-4bc0-ae81-d077b5789f6b",
   "metadata": {},
   "outputs": [],
   "source": [
    "search_tool = SerperDevTool()\n",
    "scrape_tool = ScrapeWebsiteTool()\n",
    "file_read_tool = FileReadTool(file_path=\"./fake_resume.md\")\n",
    "semantic_search_tool = MDXSearchTool(mdx=\"./fake_resume.md\")"
   ]
  },
  {
   "cell_type": "code",
   "execution_count": null,
   "id": "8044ad59-e045-4c4d-a239-1e232701a566",
   "metadata": {
    "scrolled": true
   },
   "outputs": [],
   "source": [
    "from IPython.display import Markdown, display\n",
    "display(Markdown(\"./fake_resume.md\"))"
   ]
  },
  {
   "cell_type": "markdown",
   "id": "564e07a4-2c35-4c8a-8386-7dabc7439bc5",
   "metadata": {},
   "source": [
    "## Step 03. Creating Agents"
   ]
  },
  {
   "cell_type": "code",
   "execution_count": null,
   "id": "3d49a805-50a1-470f-9b18-d1b42e008cb1",
   "metadata": {},
   "outputs": [],
   "source": [
    "researcher = Agent(\n",
    "    role=\"Tech Job Researcher\",\n",
    "    goal=\"Make sure to do amazing analysis on \"\n",
    "         \"job posting to help job applicants\",\n",
    "    tools=[scrape_tool, search_tool],\n",
    "    verbose = True,\n",
    "    backstory=(\n",
    "        \"As a Job Researcher, your prowess in \"\n",
    "        \"navigating and extracting critical \"\n",
    "        \"information from job postings is unmatched.\"\n",
    "        \"Your skills help pinpoint the necessary \"\n",
    "        \"qualifications and skills sought \"\n",
    "        \"by employers, forming the foundation for \"\n",
    "        \"effective application tailoring.\"\n",
    "    )\n",
    ")"
   ]
  },
  {
   "cell_type": "code",
   "execution_count": null,
   "id": "cfe06ce8-a00c-4579-af68-a17eca183c16",
   "metadata": {},
   "outputs": [],
   "source": [
    "# Agent 2: Profiler\n",
    "profiler = Agent(\n",
    "    role=\"Personal Profiler for Engineers\",\n",
    "    goal=\"Do increditble research on job applicants \"\n",
    "         \"to help them stand out in the job market\",\n",
    "    tools = [scrape_tool, search_tool,\n",
    "             file_read_tool, semantic_search_tool],\n",
    "    verbose=True,\n",
    "    backstory=(\n",
    "        \"Equipped with analytical prowess, you dissect \"\n",
    "        \"and synthesize information \"\n",
    "        \"from diverse sources to craft comprehensive \"\n",
    "        \"personal and professional profiles, laying the \"\n",
    "        \"groundwork for personalized resume enhancements.\"\n",
    "    )\n",
    ")"
   ]
  },
  {
   "cell_type": "code",
   "execution_count": null,
   "id": "91b74152-e86c-47e5-9bc4-291e1479df3e",
   "metadata": {},
   "outputs": [],
   "source": [
    "# Agent 3: Resume Strategist\n",
    "resume_strategist = Agent(\n",
    "    role=\"Resume Strategist for Engineers\",\n",
    "    goal=\"Find all the best ways to make a \"\n",
    "         \"resume stand out in the job market.\",\n",
    "    tools = [scrape_tool, search_tool,\n",
    "             file_read_tool, semantic_search_tool],\n",
    "    verbose=True,\n",
    "    backstory=(\n",
    "        \"With a strategic mind and an eye for detail, you \"\n",
    "        \"excel at refining resumes to highlight the most \"\n",
    "        \"relevant skills and experiences, ensuring they \"\n",
    "        \"resonate perfectly with the job's requirements.\"\n",
    "    )\n",
    ")"
   ]
  },
  {
   "cell_type": "code",
   "execution_count": null,
   "id": "d102537d-8e21-4a8f-b96c-ddc76fd7870f",
   "metadata": {},
   "outputs": [],
   "source": [
    "# Agent 4: Interview Preparer\n",
    "interview_preparer = Agent(\n",
    "    role=\"Engineering Interview Preparer\",\n",
    "    goal=\"Create interview questions and talking points \"\n",
    "         \"based on the resume and job requirements\",\n",
    "    tools = [scrape_tool, search_tool,\n",
    "             file_read_tool, semantic_search_tool],\n",
    "    verbose=True,\n",
    "    backstory=(\n",
    "        \"Your role is crucial in anticipating the dynamics of \"\n",
    "        \"interviews. With your ability to formulate key questions \"\n",
    "        \"and talking points, you prepare candidates for success, \"\n",
    "        \"ensuring they can confidently address all aspects of the \"\n",
    "        \"job they are applying for.\"\n",
    "    )\n",
    ")"
   ]
  },
  {
   "cell_type": "markdown",
   "id": "ff20d2ef-cd03-4581-8fed-3ea4893f784c",
   "metadata": {},
   "source": [
    "## Step 04. Creating Tasks"
   ]
  },
  {
   "cell_type": "code",
   "execution_count": null,
   "id": "d3902c21-9fb5-47fc-9a88-01cb7f543739",
   "metadata": {},
   "outputs": [],
   "source": [
    "# Task for Researcher Agent: Extract Job Requirements\n",
    "research_task = Task(\n",
    "    description=(\n",
    "        \"Analyze the job posting URL provided ({job_posting_url}) \"\n",
    "        \"to extract key skills, experiences, and qualifications \"\n",
    "        \"required. Use the tools to gather content and identify \"\n",
    "        \"and categorize the requirements.\"\n",
    "    ),\n",
    "    expected_output=(\n",
    "        \"A structured list of job requirements, including necessary \"\n",
    "        \"skills, qualifications, and experiences.\"\n",
    "    ),\n",
    "    agent=researcher,\n",
    "    async_execution=True\n",
    ")"
   ]
  },
  {
   "cell_type": "code",
   "execution_count": null,
   "id": "0d9bec12-fef9-472c-a4f8-a341c4d72cd1",
   "metadata": {},
   "outputs": [],
   "source": [
    "# Task for Profiler Agent: Compile Comprehensive Profile\n",
    "profile_task = Task(\n",
    "    description=(\n",
    "        \"Compile a detailed personal and professional profile \"\n",
    "        \"using the GitHub ({github_url}) URLs, and personal write-up \"\n",
    "        \"({personal_writeup}). Utilize tools to extract and \"\n",
    "        \"synthesize information from these sources.\"\n",
    "    ),\n",
    "    expected_output=(\n",
    "        \"A comprehensive profile document that includes skills, \"\n",
    "        \"project experiences, contributions, interests, and \"\n",
    "        \"communication style.\"\n",
    "    ),\n",
    "    agent=profiler,\n",
    "    async_execution=True\n",
    ")"
   ]
  },
  {
   "cell_type": "markdown",
   "id": "010c0be1-a854-4a51-b8c0-d65891038ceb",
   "metadata": {},
   "source": [
    "- You can pass a list of tasks as `context` to a task.\n",
    "- The task then takes into account the output of those tasks in its execution.\n",
    "- The task will not run until it has the output(s) from those tasks."
   ]
  },
  {
   "cell_type": "code",
   "execution_count": null,
   "id": "8736e4d9-8122-45aa-b448-6080635ab2a9",
   "metadata": {},
   "outputs": [],
   "source": [
    "# Task for Resume Strategist Agent: Align Resume with Job Requirements\n",
    "resume_strategy_task = Task(\n",
    "    description=(\n",
    "        \"Using the profile and job requirements obtained from \"\n",
    "        \"previous tasks, tailor the resume to highlight the most \"\n",
    "        \"relevant areas. Employ tools to adjust and enhance the \"\n",
    "        \"resume content. Make sure this is the best resume even but \"\n",
    "        \"don't make up any information. Update every section, \"\n",
    "        \"inlcuding the initial summary, work experience, skills, \"\n",
    "        \"and education. All to better reflect the candidates \"\n",
    "        \"abilities and how it matches the job posting.\"\n",
    "    ),\n",
    "    expected_output=(\n",
    "        \"An updated resume that effectively highlights the candidate's \"\n",
    "        \"qualifications and experiences relevant to the job.\"\n",
    "    ),\n",
    "    output_file=\"tailored_resume.md\",\n",
    "    context=[research_task, profile_task],\n",
    "    agent=resume_strategist\n",
    ")"
   ]
  },
  {
   "cell_type": "code",
   "execution_count": null,
   "id": "dbc9d3ed-7472-4ed5-b87c-e3fce16002f6",
   "metadata": {},
   "outputs": [],
   "source": [
    "# Task for Interview Preparer Agent: Develop Interview Materials\n",
    "interview_preparation_task = Task(\n",
    "    description=(\n",
    "        \"Create a set of potential interview questions and talking \"\n",
    "        \"points based on the tailored resume and job requirements. \"\n",
    "        \"Utilize tools to generate relevant questions and discussion \"\n",
    "        \"points. Make sure to use these question and talking points to \"\n",
    "        \"help the candiadte highlight the main points of the resume \"\n",
    "        \"and how it matches the job posting.\"\n",
    "    ),\n",
    "    expected_output=(\n",
    "        \"A document containing key questions and talking points \"\n",
    "        \"that the candidate should prepare for the initial interview.\"\n",
    "    ),\n",
    "    output_file=\"interview_materials.md\",\n",
    "    context=[research_task, profile_task, resume_strategy_task],\n",
    "    agent=interview_preparer\n",
    ")\n"
   ]
  },
  {
   "cell_type": "markdown",
   "id": "3e43980d-b69a-4bcd-b1c6-d8a01dad5e4a",
   "metadata": {},
   "source": [
    "## Step 05. Creating Crew"
   ]
  },
  {
   "cell_type": "code",
   "execution_count": null,
   "id": "efc34cea-ba50-477e-a264-f4cb825f2e7e",
   "metadata": {},
   "outputs": [],
   "source": [
    "job_application_crew = Crew(\n",
    "    agents=[researcher,\n",
    "            profiler,\n",
    "            resume_strategist,\n",
    "            interview_preparer],\n",
    "\n",
    "    tasks=[research_task,\n",
    "           profile_task,\n",
    "           resume_strategy_task,\n",
    "           interview_preparation_task],\n",
    "\n",
    "    verbose=True\n",
    ")"
   ]
  },
  {
   "cell_type": "markdown",
   "id": "9f1ebabf-6b0c-4d49-afcf-c5194d851ee7",
   "metadata": {},
   "source": [
    "### Running the crew"
   ]
  },
  {
   "cell_type": "code",
   "execution_count": null,
   "id": "224b76d7-628f-4511-92dc-6757e09bfd56",
   "metadata": {},
   "outputs": [],
   "source": "job_application_inputs = {\n    'job_posting_url': 'https://jobs.lever.co/AIFund/6c82e23e-d954-4dd8-a734-c0c2c5ee00f1?lever-origin=applied&lever-source%5B%5D=AI+Fund',\n    'github_url': 'https://github.com/SecureYourGear',\n    'personal_writeup': \"\"\"Noah is an accomplished Software\n    Engineering Leader with 18 years of experience, specializing in\n    managing remote and in-office teams, and expert in multiple\n    programming languages and frameworks. He holds an MBA and a strong\n    background in AI and data science. Noah has successfully led\n    major tech initiatives and startups, proving his ability to drive\n    innovation and growth in the tech industry. Ideal for leadership\n    roles that require a strategic and innovative approach.\"\"\"\n}"
  },
  {
   "cell_type": "markdown",
   "id": "f18db8cf-a308-4f65-9fff-1363f64da0eb",
   "metadata": {},
   "source": [
    "### Kicking off the crew"
   ]
  },
  {
   "cell_type": "code",
   "execution_count": null,
   "id": "9c490189-f0a4-4ac0-b924-545450e8bff6",
   "metadata": {
    "scrolled": true
   },
   "outputs": [],
   "source": [
    "### this execution will take a few minutes to run\n",
    "result = job_application_crew.kickoff(inputs=job_application_inputs)"
   ]
  },
  {
   "cell_type": "markdown",
   "id": "89822a98-5eaa-4d5f-ba41-b13dbbabe45e",
   "metadata": {},
   "source": [
    "- Display the generated tailored_resume.md file."
   ]
  },
  {
   "cell_type": "code",
   "execution_count": null,
   "id": "4ff95d84-9457-4465-a8d2-02d75683e4f6",
   "metadata": {
    "scrolled": true
   },
   "outputs": [],
   "source": [
    "from IPython.display import Markdown, display\n",
    "display(Markdown(\"./tailored_resume.md\"))"
   ]
  },
  {
   "cell_type": "markdown",
   "id": "77798307-81d0-468c-a9b1-4320007aa309",
   "metadata": {},
   "source": [
    "- Display the generated interview_materials.md file."
   ]
  },
  {
   "cell_type": "code",
   "execution_count": null,
   "id": "24d7d275-e345-4bf1-a58d-d431caf8501a",
   "metadata": {
    "scrolled": true
   },
   "outputs": [],
   "source": [
    "display(Markdown(\"./interview_materials.md\"))"
   ]
  },
  {
   "cell_type": "code",
   "execution_count": null,
   "id": "dba7cb86-61e9-4785-85c4-7b8b2069b089",
   "metadata": {},
   "outputs": [],
   "source": []
  }
 ],
 "metadata": {
  "kernelspec": {
   "display_name": "Python 3.12.1",
   "language": "python",
   "name": "python312"
  },
  "language_info": {
   "codemirror_mode": {
    "name": "ipython",
    "version": 3
   },
   "file_extension": ".py",
   "mimetype": "text/x-python",
   "name": "python",
   "nbconvert_exporter": "python",
   "pygments_lexer": "ipython3",
   "version": "3.12.3"
  }
 },
 "nbformat": 4,
 "nbformat_minor": 5
}
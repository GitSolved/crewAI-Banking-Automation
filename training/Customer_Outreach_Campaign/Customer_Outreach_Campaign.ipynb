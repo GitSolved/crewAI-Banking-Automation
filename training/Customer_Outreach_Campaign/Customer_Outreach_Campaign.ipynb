{
 "cells": [
  {
   "cell_type": "markdown",
   "id": "47885daa-366f-485b-b9c9-ac2657dc241c",
   "metadata": {},
   "source": [
    "# Customer Outreach Campaign\n",
    "\n",
    "We learn how to create custom tools for a customer outreach campaign. A Good tool has 3 key elements:\n",
    "\n",
    "- Versatility\n",
    "- Caching\n",
    "- Fault Tolerance"
   ]
  },
  {
   "cell_type": "markdown",
   "id": "f8899e19-cc6a-4f2a-9ccf-eadc32959a35",
   "metadata": {},
   "source": [
    "Note: CrewAI only works with Python version >=3.10 and <=3.13 "
   ]
  },
  {
   "cell_type": "code",
   "execution_count": null,
   "id": "50cf3491-2ca5-47a0-ae75-19ff70d17f8c",
   "metadata": {},
   "outputs": [],
   "source": [
    "import sys\n",
    "print(sys.version)"
   ]
  },
  {
   "cell_type": "markdown",
   "id": "1d195e57-1fbe-4c9e-a5f9-7bbb10764378",
   "metadata": {},
   "source": [
    "## Step 01. Installing CrewAI packages"
   ]
  },
  {
   "cell_type": "code",
   "execution_count": null,
   "id": "9b7bb8bd-1257-4251-8713-f0f65d7dbb1e",
   "metadata": {},
   "outputs": [],
   "source": [
    "%%capture\n",
    "!pip install crewai"
   ]
  },
  {
   "cell_type": "code",
   "execution_count": null,
   "id": "17f6fa08-f29a-4d0b-8ff3-ad3508beeeb6",
   "metadata": {},
   "outputs": [],
   "source": [
    "%%capture\n",
    "!pip install 'crewai[tools]'"
   ]
  },
  {
   "cell_type": "code",
   "execution_count": null,
   "id": "fba8748b-370f-4605-a98d-1d7a07091b7b",
   "metadata": {},
   "outputs": [],
   "source": [
    "# Warning control\n",
    "import warnings\n",
    "warnings.filterwarnings('ignore')"
   ]
  },
  {
   "cell_type": "markdown",
   "id": "020a5c05-8334-4144-b9e3-553644c7d55a",
   "metadata": {},
   "source": [
    "## Step 02. Importing CrewAI library (Agent, Task and Crew module)"
   ]
  },
  {
   "cell_type": "code",
   "execution_count": null,
   "id": "4fe89365-5e10-46e6-a9f4-a9201fef3b90",
   "metadata": {},
   "outputs": [],
   "source": [
    "from crewai import Agent, Task, Crew"
   ]
  },
  {
   "cell_type": "markdown",
   "id": "0ce2e39c-6043-4bd4-a051-10c2246d225d",
   "metadata": {},
   "source": [
    "To use Agents, we need to set env. variables (key, model name)"
   ]
  },
  {
   "cell_type": "code",
   "execution_count": null,
   "id": "997c61f2-1625-4f1d-8e1c-0ecc1d6eb06c",
   "metadata": {},
   "outputs": [],
   "source": [
    "import os\n",
    "os.environ['OPENAI_API_KEY'] = 'Your OPENAI API KEY'\n",
    "os.environ['OPENAI_MODEL_NAME'] = 'gpt-4-turbo'\n",
    "os.environ['SERPER_API_KEY'] = 'Your SERPER API KEY'"
   ]
  },
  {
   "cell_type": "markdown",
   "id": "eae071d6-492e-4d9d-ac92-d1904c30674a",
   "metadata": {},
   "source": [
    "## Step 03. Creating Agents"
   ]
  },
  {
   "cell_type": "code",
   "execution_count": null,
   "id": "9abbb3ed-3963-494f-9672-3dd923d62c8e",
   "metadata": {},
   "outputs": [],
   "source": [
    "sales_rep_agent = Agent(\n",
    "    role=\"Sales Representative\",\n",
    "    goal=\"Identify high-value leads that match \"\n",
    "         \"our ideal customer profile\",\n",
    "    backstory=(\n",
    "        \"As a part of the dynamic sales team at CrewAI, \"\n",
    "        \"your mission is to scour \"\n",
    "        \"the digital landscape for potential leads. \"\n",
    "        \"Armed with cutting-edge tools \"\n",
    "        \"and a strategic mindset, you analyze data, \"\n",
    "        \"trends, and interactions to \"\n",
    "        \"unearth opportunities that others might overlook. \"\n",
    "        \"Your work is crucial in paving the way \"\n",
    "        \"for meaningful engagements and driving the company's growth.\"\n",
    "    ),\n",
    "    allow_delegation=False,\n",
    "    verbose=True\n",
    ")"
   ]
  },
  {
   "cell_type": "code",
   "execution_count": null,
   "id": "1fdcc9c3-287c-4ee2-8021-b0f8e7df5693",
   "metadata": {},
   "outputs": [],
   "source": [
    "lead_sales_rep_agent = Agent(\n",
    "    role=\"Lead Sales Representative\",\n",
    "    goal=\"Nurture leads with personalized, compelling communications\",\n",
    "    backstory=(\n",
    "        \"Within the vibrant ecosystem of CrewAI's sales department, \"\n",
    "        \"you stand out as the bridge between potential clients \"\n",
    "        \"and the solutions they need.\"\n",
    "        \"By creating engaging, personalized messages, \"\n",
    "        \"you not only inform leads about our offerings \"\n",
    "        \"but also make them feel seen and heard.\"\n",
    "        \"Your role is pivotal in converting interest \"\n",
    "        \"into action, guiding leads through the journey \"\n",
    "        \"from curiosity to commitment.\"\n",
    "    ),\n",
    "    allow_delegation=False,\n",
    "    verbose=True\n",
    ")"
   ]
  },
  {
   "cell_type": "markdown",
   "id": "83034cac-45d9-4ef0-9bd1-78c48c3af5ea",
   "metadata": {},
   "source": [
    "## Step 04. Creating Tools"
   ]
  },
  {
   "cell_type": "markdown",
   "id": "a67bfda4-af35-4306-be98-e95453b243d7",
   "metadata": {},
   "source": [
    "### CrewAI Tools\n",
    "\n",
    "- **SerperDevTool** : Used for Google Search\n",
    "- **DirectoryReadTool** : Open a directory\n",
    "- **FileReadTool** : Read a file"
   ]
  },
  {
   "cell_type": "code",
   "execution_count": null,
   "id": "45e72e03-24cc-4fd6-ab6c-cfa2d9092000",
   "metadata": {},
   "outputs": [],
   "source": [
    "from crewai_tools import SerperDevTool, DirectoryReadTool, FileReadTool"
   ]
  },
  {
   "cell_type": "code",
   "execution_count": null,
   "id": "a677d33f-59cf-4cf9-99f8-fa1360944143",
   "metadata": {},
   "outputs": [],
   "source": [
    "# local directory 'instructions' contains markdown files\n",
    "# markdown files (.md) having instructions on how to deal with company of different sizes \n",
    "\n",
    "directory_read_tool = DirectoryReadTool(directory='./instructions')\n",
    "file_read_tool = FileReadTool()\n",
    "serper_dev_tool = SerperDevTool()"
   ]
  },
  {
   "cell_type": "markdown",
   "id": "8f314e4f-0823-45d6-b0c2-962ea5c2c511",
   "metadata": {},
   "source": [
    "### Custom Tool (SentimentAnalysisTool)\n",
    "\n",
    "- Create a custom tool using crewAI's BaseTool class"
   ]
  },
  {
   "cell_type": "code",
   "execution_count": null,
   "id": "4a2b7c01-8a46-4794-a677-a6eb84cf13df",
   "metadata": {},
   "outputs": [],
   "source": [
    "from crewai_tools import BaseTool"
   ]
  },
  {
   "cell_type": "markdown",
   "id": "4dc54882-4b96-45c5-8b1e-a73a4c1549da",
   "metadata": {},
   "source": [
    "- Every Tool needs to have a `name` and a `description`.\n",
    "- Tool logic written in `_run` function\n",
    "- For simplicity and classroom purposes, `SentimentAnalysisTool` will return `positive` for every text."
   ]
  },
  {
   "cell_type": "code",
   "execution_count": null,
   "id": "f07e4aa7-3739-4c46-b6da-6f191745d239",
   "metadata": {},
   "outputs": [],
   "source": [
    "class SentimentAnalysisTool(BaseTool):\n",
    "    name : str = \"Sentiment Analysis Tool\"\n",
    "    description : str = (\"Analyzes the sentiment of text \"\n",
    "         \"to ensure positive and engaging communication.\")\n",
    "\n",
    "    def _run(self, argument : str) -> str:\n",
    "        return \"positive\""
   ]
  },
  {
   "cell_type": "code",
   "execution_count": null,
   "id": "f98443b0-0ba8-4e9b-9f3a-497d76195e73",
   "metadata": {},
   "outputs": [],
   "source": [
    "sentiment_analysis_tool = SentimentAnalysisTool()"
   ]
  },
  {
   "cell_type": "markdown",
   "id": "3ce15ffd-b323-4b23-a479-98243a593051",
   "metadata": {},
   "source": [
    "## Step 05. Creating Tasks\n",
    "\n",
    "- Lead Profiling Task usign crewAI Tools"
   ]
  },
  {
   "cell_type": "code",
   "execution_count": null,
   "id": "d256e187-d936-41b3-8675-b09d6596f317",
   "metadata": {},
   "outputs": [],
   "source": [
    "lead_profiling = Task (\n",
    "    description=(\n",
    "        \"Conduct an in-depth analysis of {lead_name}, \"\n",
    "        \"a company in the {industry} sector \"\n",
    "        \"that recently showed interest in our solutions. \"\n",
    "        \"Utilize all available data sources \"\n",
    "        \"to compile a detailed profile, \"\n",
    "        \"focusing on key decision-makers, recent business \"\n",
    "        \"developments, and potential needs \"\n",
    "        \"that align with our offerings. \"\n",
    "        \"This task is crucial for tailoring \"\n",
    "        \"our engagement strategy effectively.\\n\"\n",
    "        \"Don't make assumptions and \"\n",
    "        \"only use information you absolutely sure about.\"\n",
    "    ),\n",
    "    expected_output=(\n",
    "        \"A comprehensive report on {lead_name}, \"\n",
    "        \"including company background, \"\n",
    "        \"key personnel, recent milestones, and identified needs. \"\n",
    "        \"Highlight potential areas where \"\n",
    "        \"our solutions can provide value, \"\n",
    "        \"and suggest personalized engagement strategies.\"\n",
    "    ),\n",
    "    tools=[serper_dev_tool, directory_read_tool, file_read_tool],\n",
    "    agent=sales_rep_agent\n",
    ")"
   ]
  },
  {
   "cell_type": "markdown",
   "id": "dd962dc1-36ee-4a3f-a151-c4a63ae02160",
   "metadata": {},
   "source": [
    "- The personalized outreach task is created using custom tool `SentimentAnalysisTool`, as well as crewAI's `SerperDevTool` (search tool)"
   ]
  },
  {
   "cell_type": "code",
   "execution_count": null,
   "id": "5627d9c3-f821-4316-b471-de4af1914220",
   "metadata": {},
   "outputs": [],
   "source": [
    "personalized_outreach_task = Task (\n",
    "    description=(\n",
    "        \"Using the insights gathered from \"\n",
    "        \"the lead profiling report on {lead_name}, \"\n",
    "        \"craft a personalized outreach campaign \"\n",
    "        \"aimed at {key_decision_maker}, \"\n",
    "        \"the {position} of {lead_name}. \"\n",
    "        \"The campaign should address their recent {milestone} \"\n",
    "        \"and how our solutions can support their goals. \"\n",
    "        \"Your communication must resonate \"\n",
    "        \"with {lead_name}'s company culture and values, \"\n",
    "        \"demonstrating a deep understanding of \"\n",
    "        \"their business and needs.\\n\"\n",
    "        \"Don't make assumptions and only \"\n",
    "        \"use information you absolutely sure about.\"\n",
    "    ),\n",
    "    expected_output=(\n",
    "        \"A series of personalized email drafts \"\n",
    "        \"tailored to {lead_name}, \"\n",
    "        \"specifically targeting {key_decision_maker}.\"\n",
    "        \"Each draft should include \"\n",
    "        \"a compelling narrative that connects our solutions \"\n",
    "        \"with their recent achievements and future goals. \"\n",
    "        \"Ensure the tone is engaging, professional, \"\n",
    "        \"and aligned with {lead_name}'s corporate identity.\"\n",
    "    ),\n",
    "    tools=[serper_dev_tool, sentiment_analysis_tool],\n",
    "    agent=lead_sales_rep_agent\n",
    ")"
   ]
  },
  {
   "cell_type": "markdown",
   "id": "86926ef3-9497-4ddd-aeb7-5a98a8522e94",
   "metadata": {},
   "source": [
    "## Step 06.  Creating a crew "
   ]
  },
  {
   "cell_type": "code",
   "execution_count": null,
   "id": "507ce7eb-7761-4b8d-91a5-b57f08594609",
   "metadata": {},
   "outputs": [],
   "source": [
    "crew = Crew(\n",
    "    tasks=[lead_profiling, personalized_outreach_task],\n",
    "    agents=[sales_rep_agent, lead_sales_rep_agent],\n",
    "    memory=True,\n",
    "    verbose=2\n",
    ")"
   ]
  },
  {
   "cell_type": "markdown",
   "id": "b6d43d73-d8c0-4b2e-b0cd-30934a6a2e84",
   "metadata": {},
   "source": [
    "## Kicking off the crew"
   ]
  },
  {
   "cell_type": "code",
   "execution_count": null,
   "id": "d5aaf533-111d-420f-9dbd-ad5584ddebd2",
   "metadata": {},
   "outputs": [],
   "source": [
    "inputs = {\n",
    "    \"lead_name\": \"DeepLearningAI\",\n",
    "    \"industry\": \"Online Learning Platform\",\n",
    "    \"key_decision_maker\": \"Andrew Ng\",\n",
    "    \"position\": \"CEO\",\n",
    "    \"milestone\": \"product launch\"\n",
    "}\n",
    "\n",
    "result = crew.kickoff(inputs=inputs)"
   ]
  },
  {
   "cell_type": "code",
   "execution_count": null,
   "id": "b35dd156-f388-42d1-878c-9588fcedcab1",
   "metadata": {},
   "outputs": [],
   "source": [
    "from IPython.display import Markdown\n",
    "Markdown(result)"
   ]
  },
  {
   "cell_type": "code",
   "execution_count": null,
   "id": "2b2015e0-0ed4-44a8-9ce4-98ad8b5c952f",
   "metadata": {},
   "outputs": [],
   "source": []
  }
 ],
 "metadata": {
  "kernelspec": {
   "display_name": "Python 3.12.1",
   "language": "python",
   "name": "python312"
  },
  "language_info": {
   "codemirror_mode": {
    "name": "ipython",
    "version": 3
   },
   "file_extension": ".py",
   "mimetype": "text/x-python",
   "name": "python",
   "nbconvert_exporter": "python",
   "pygments_lexer": "ipython3",
   "version": "3.12.3"
  }
 },
 "nbformat": 4,
 "nbformat_minor": 5
}
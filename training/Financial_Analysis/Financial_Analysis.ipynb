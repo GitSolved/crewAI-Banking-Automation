{
 "cells": [
  {
   "cell_type": "markdown",
   "id": "cf4f524e-a70b-497b-853e-7f4fb66904a9",
   "metadata": {},
   "source": [
    "# Financial Analysis \n",
    "## (using multi-agent collaboration system)"
   ]
  },
  {
   "cell_type": "markdown",
   "id": "b15e4ca4-7456-4120-a59e-b7c8ed6a52e2",
   "metadata": {},
   "source": [
    "In this project, we will use 4 agents\n",
    "\n",
    "- Data Analyst Agent \n",
    "- Trading Strategy Agent\n",
    "- Execution Agent\n",
    "- Risk Management Agent\n",
    "\n"
   ]
  },
  {
   "cell_type": "markdown",
   "id": "bd5c3e38-dff4-4127-bdfa-c52cf3c1bcd1",
   "metadata": {},
   "source": [
    "Using the 4 agents, we work towards 4 tasks\n",
    "\n",
    "- Data Analysis Task (for Data Analyst)\n",
    "- Strategy Development Task (for Trading Strategy agent)\n",
    "- Execution Planning Task (for Execution Agent)\n",
    "-  Risk Assessment Task (for Risk Management Agent)"
   ]
  },
  {
   "cell_type": "markdown",
   "id": "a030a2c5-78ba-401d-9eb9-ae4b41e10296",
   "metadata": {},
   "source": [
    "In this project, we will use a **Hierarchial Process**, where crewAI creates a manager to delegate task to all the 4 agents"
   ]
  },
  {
   "cell_type": "markdown",
   "id": "199acfb5-de39-4b65-ac48-87b4e6a62237",
   "metadata": {},
   "source": [
    "## Step 01. Installing crewai and crewai_tools libraries\n",
    "\n",
    "**Note:** crewai requires Python version >=3.10 and <=3.13"
   ]
  },
  {
   "cell_type": "code",
   "execution_count": null,
   "id": "09d5b490-9bf5-4391-8fd6-9c93eacf5228",
   "metadata": {},
   "outputs": [],
   "source": [
    "import sys\n",
    "print(sys.version)"
   ]
  },
  {
   "cell_type": "code",
   "execution_count": null,
   "id": "66850ce6-a86f-45e4-9f36-3d58b9bcd2cf",
   "metadata": {
    "scrolled": true
   },
   "outputs": [],
   "source": [
    "!pip install crewai"
   ]
  },
  {
   "cell_type": "code",
   "execution_count": null,
   "id": "c0bf8227-49f2-44ae-97f6-3c29e6c7b498",
   "metadata": {
    "scrolled": true
   },
   "outputs": [],
   "source": [
    "!pip install crewai_tools"
   ]
  },
  {
   "cell_type": "code",
   "execution_count": null,
   "id": "e7fe4ab0-4fec-45fb-b820-198d429e7850",
   "metadata": {},
   "outputs": [],
   "source": [
    "# Warning control\n",
    "import warnings\n",
    "warnings.filterwarnings('ignore')"
   ]
  },
  {
   "cell_type": "markdown",
   "id": "f6564226-bb66-4bc8-99b0-cf3a204c179d",
   "metadata": {},
   "source": [
    "## Step 02. Importing modules, LLMs, tools\n",
    "\n",
    "**NOTE:** To create Agent class objects, we need to specify OPEN_AI model name and api key as environment variables\n",
    "\n",
    "**NOTE:** To run crewai's SerperDevTool, we need SERPER_API_KEY as environment variables"
   ]
  },
  {
   "cell_type": "code",
   "execution_count": null,
   "id": "859edfa7-e964-450b-bd95-6ac0f399a08c",
   "metadata": {},
   "outputs": [],
   "source": [
    "from crewai import Crew, Agent, Task\n",
    "\n",
    "import os\n",
    "os.environ['OPENAI_MODEL_NAME'] = \"gpt-4-turbo\"\n",
    "os.environ['OPENAI_API_KEY'] = \"Your OPEN AI Api Key\"\n",
    "os.environ['SERPER_API_KEY'] = \"Your Server API key\""
   ]
  },
  {
   "cell_type": "markdown",
   "id": "e727828d-be6a-46f6-83ce-e40e5f20dd94",
   "metadata": {},
   "source": [
    "### crewAI Tools"
   ]
  },
  {
   "cell_type": "code",
   "execution_count": null,
   "id": "6ed8bb1f-8e51-498e-affa-1409a4629a35",
   "metadata": {},
   "outputs": [],
   "source": [
    "from crewai_tools import ScrapeWebsiteTool, SerperDevTool\n",
    "\n",
    "search_tool = SerperDevTool()\n",
    "scrape_tool = ScrapeWebsiteTool()"
   ]
  },
  {
   "cell_type": "markdown",
   "id": "068008fb-417d-4625-8d8f-7025b9c9a166",
   "metadata": {},
   "source": [
    "## Step 03. Creating Agents"
   ]
  },
  {
   "cell_type": "markdown",
   "id": "dfdab165-92d5-4494-b005-44e6d7ab18a0",
   "metadata": {},
   "source": [
    "### Agent 1: Data Analyst Agent"
   ]
  },
  {
   "cell_type": "code",
   "execution_count": null,
   "id": "e42b5675-8828-4284-b2d5-c168f07d7b73",
   "metadata": {},
   "outputs": [],
   "source": [
    "data_analyst_agent = Agent(\n",
    "    role=\"Data Analyst\",\n",
    "    goal=\"Monitor and analyze market data in real-time \"\n",
    "         \"to identify trends and predict market movements.\",\n",
    "    backstory=\"Specializing in financial markets, this agent \"\n",
    "              \"uses statistical modeling and machine learning \"\n",
    "              \"to provide crucial insights. With a knack for data, \"\n",
    "              \"the Data Analyst Agent is the cornerstone for \"\n",
    "              \"informing trading decisions.\",\n",
    "    allow_delegation=True,\n",
    "    verbose=True,\n",
    "    tools=[search_tool, scrape_tool]\n",
    ")"
   ]
  },
  {
   "cell_type": "markdown",
   "id": "174c7a47-91c4-4fe4-af8d-cb663effa54e",
   "metadata": {},
   "source": [
    "### Agent 2: Trading Strategy Agent"
   ]
  },
  {
   "cell_type": "code",
   "execution_count": null,
   "id": "cf3b1f13-c421-4f88-8916-45c52973e16f",
   "metadata": {},
   "outputs": [],
   "source": [
    "trading_strategy_agent = Agent(\n",
    "    role=\"Trading Strategy Developer\",\n",
    "    goal=\"Develop and test various trading strategies based \"\n",
    "         \"on insights from the Data Analyst Agent.\",\n",
    "    backstory=\"Equipped with a deep understanding of financial \"\n",
    "              \"markets and quantitative analysis, this agent \"\n",
    "              \"devises and refines trading strategies. It evaluates \"\n",
    "              \"the performance of different approaches to determine \"\n",
    "              \"the most profitable and risk-averse options.\",\n",
    "    allow_delegation=True,\n",
    "    tools=[search_tool, scrape_tool],\n",
    "    verbose=True\n",
    ")"
   ]
  },
  {
   "cell_type": "markdown",
   "id": "399cd5b1-f05b-43d0-9c97-e8d8e1364675",
   "metadata": {},
   "source": [
    "### Agent 3: Execution Agent"
   ]
  },
  {
   "cell_type": "code",
   "execution_count": null,
   "id": "a8eab0e5-445a-4656-a0cd-ae7864485fc1",
   "metadata": {},
   "outputs": [],
   "source": [
    "execution_agent = Agent(\n",
    "    role=\"Trade Advisor\",\n",
    "    goal=\"Suggest optimal trade execution strategies \"\n",
    "         \"based on approved trading strategies.\",\n",
    "    backstory=\"This agent specializes in analyzing the timing, price, \"\n",
    "              \"and logistical details of potential trades. By evaluating \"\n",
    "              \"these factors, it provides well-founded suggestions for \"\n",
    "              \"when and how trades should be executed to maximize \"\n",
    "              \"efficiency and adherence to strategy.\",\n",
    "    allow_delegation=True,\n",
    "    tools=[search_tool, scrape_tool],\n",
    "    verbose=True\n",
    ")"
   ]
  },
  {
   "cell_type": "markdown",
   "id": "24c6882d-5d52-4cfc-945c-fca9bb861ae0",
   "metadata": {},
   "source": [
    "### Agent 4: Risk Management Agent"
   ]
  },
  {
   "cell_type": "code",
   "execution_count": null,
   "id": "5c7e3d5d-35f5-4c5c-b539-7145b23b3c85",
   "metadata": {},
   "outputs": [],
   "source": [
    "risk_management_agent = Agent(\n",
    "    role=\"Risk Advisor\",\n",
    "    goal=\"Evaluate and provide insights on the risks \"\n",
    "         \"associated with potential trading activities.\",\n",
    "    backstory=\"Armed with a deep understanding of risk assessment models \"\n",
    "              \"and market dynamics, this agent scrutinizes the potential \"\n",
    "              \"risks of proposed trades. It offers a detailed analysis of \"\n",
    "              \"risk exposure and suggests safeguards to ensure that \"\n",
    "              \"trading activities align with the firm’s risk tolerance.\",\n",
    "    allow_delegation=True,\n",
    "    tools=[search_tool, scrape_tool],\n",
    "    verbose=True\n",
    ")"
   ]
  },
  {
   "cell_type": "markdown",
   "id": "2a763458-7122-4017-976a-a08cd83d0733",
   "metadata": {},
   "source": [
    "## Step 04. Creating Tasks"
   ]
  },
  {
   "cell_type": "code",
   "execution_count": null,
   "id": "969bc86e-36a7-48cc-8795-a5f54c988039",
   "metadata": {},
   "outputs": [],
   "source": [
    "# Task for Data Analyst Agent: Analyze Market Data\n",
    "data_analysis_task = Task(\n",
    "    description=(\n",
    "        \"Continuously monitor and analyze market data for \"\n",
    "        \"the selected stock ({stock_selection}). \"\n",
    "        \"Use statistical modeling and machine learning to \"\n",
    "        \"identify trends and predict market movements.\"\n",
    "    ),\n",
    "    expected_output=(\n",
    "        \"Insights and alerts about significant market \"\n",
    "        \"opportunities or threats for {stock_selection}.\"\n",
    "    ),\n",
    "    agent=data_analyst_agent,\n",
    ")"
   ]
  },
  {
   "cell_type": "code",
   "execution_count": null,
   "id": "feb48c3a-330d-4f4f-8fd6-b75d3429cd1a",
   "metadata": {},
   "outputs": [],
   "source": [
    "# Task for Trading Strategy Agent: Develop Trading Strategies\n",
    "strategy_development_task = Task(\n",
    "    description=(\n",
    "        \"Develop and refine trading strategies based on \"\n",
    "        \"the insights from the Data Analyst and \"\n",
    "        \"user-defined risk tolerance ({risk_tolerance}). \"\n",
    "        \"Consider trading preferences ({trading_strategy_preference}).\"\n",
    "    ),\n",
    "    expected_output=(\n",
    "        \"A set of potential trading strategies for {stock_selection} \"\n",
    "        \"that align with the user's risk tolerance.\"\n",
    "    ),\n",
    "    agent=trading_strategy_agent,\n",
    ")\n"
   ]
  },
  {
   "cell_type": "code",
   "execution_count": null,
   "id": "b2450af3-1988-4d6a-afb1-07387c0ebf34",
   "metadata": {},
   "outputs": [],
   "source": [
    "# Task for Trade Advisor Agent: Plan Trade Execution\n",
    "execution_planning_task = Task(\n",
    "    description=(\n",
    "        \"Analyze approved trading strategies to determine the \"\n",
    "        \"best execution methods for {stock_selection}, \"\n",
    "        \"considering current market conditions and optimal pricing.\"\n",
    "    ),\n",
    "    expected_output=(\n",
    "        \"Detailed execution plans suggesting how and when to \"\n",
    "        \"execute trades for {stock_selection}.\"\n",
    "    ),\n",
    "    agent=execution_agent,\n",
    ")\n"
   ]
  },
  {
   "cell_type": "code",
   "execution_count": null,
   "id": "fb1996e1-3cc2-4b4c-b948-d212269f7511",
   "metadata": {},
   "outputs": [],
   "source": [
    "# Task for Risk Advisor Agent: Assess Trading Risks\n",
    "risk_assessment_task = Task(\n",
    "    description=(\n",
    "        \"Evaluate the risks associated with the proposed trading \"\n",
    "        \"strategies and execution plans for {stock_selection}. \"\n",
    "        \"Provide a detailed analysis of potential risks \"\n",
    "        \"and suggest mitigation strategies.\"\n",
    "    ),\n",
    "    expected_output=(\n",
    "        \"A comprehensive risk analysis report detailing potential \"\n",
    "        \"risks and mitigation recommendations for {stock_selection}.\"\n",
    "    ),\n",
    "    agent=risk_management_agent,\n",
    ")"
   ]
  },
  {
   "cell_type": "markdown",
   "id": "db6a5aa3-57de-48f4-8d21-fb67e0bb5b4e",
   "metadata": {},
   "source": [
    "## Step 06. Creating Crew"
   ]
  },
  {
   "cell_type": "markdown",
   "id": "84ab4a20-81f9-4c0c-993a-0beb40bc0fa4",
   "metadata": {},
   "source": [
    "### Creating the Crew\n",
    "- The `Process` class helps to delegate the workflow to the Agents (kind of like a Manager at work)\n",
    "- In the example below, it will run this hierarchically.\n",
    "- `manager_llm` lets you choose the \"manager\" LLM you want to use."
   ]
  },
  {
   "cell_type": "code",
   "execution_count": null,
   "id": "97bd5ca8-21b8-4d37-9f02-b2c4fb19df0e",
   "metadata": {},
   "outputs": [],
   "source": [
    "from crewai import Crew, Process\n",
    "from langchain_openai import ChatOpenAI"
   ]
  },
  {
   "cell_type": "code",
   "execution_count": null,
   "id": "2699c242-6175-4eca-9e75-0c08d9be695c",
   "metadata": {},
   "outputs": [],
   "source": [
    "# define the crew with agent and tasks\n",
    "financial_trading_crew = Crew (\n",
    "    agents=[data_analyst_agent, \n",
    "            trading_strategy_agent, \n",
    "            execution_agent, \n",
    "            risk_management_agent],\n",
    "    \n",
    "    tasks=[data_analysis_task, \n",
    "           strategy_development_task, \n",
    "           execution_planning_task, \n",
    "           risk_assessment_task],\n",
    "    \n",
    "    verbose=True,\n",
    "    process=Process.hierarchical,\n",
    "    manager_llm=ChatOpenAI(model=\"gpt-3.5-turbo\", temperature=0.7)\n",
    ")"
   ]
  },
  {
   "cell_type": "markdown",
   "id": "c98c0f44-4d6e-45f2-bdfb-1ca8f3d02ee5",
   "metadata": {},
   "source": [
    "### Running the crew"
   ]
  },
  {
   "cell_type": "code",
   "execution_count": null,
   "id": "eb9fff12-a651-4deb-bac0-f336c25f9dc3",
   "metadata": {},
   "outputs": [],
   "source": [
    "# specify the input for crew\n",
    "financial_trading_inputs = {\n",
    "    'stock_selection': 'AAPL',\n",
    "    'initial_capital': '100000',\n",
    "    'risk_tolerance': 'Medium',\n",
    "    'trading_strategy_preference': 'Day Trading',\n",
    "    'news_impact_consideration': True\n",
    "}"
   ]
  },
  {
   "cell_type": "code",
   "execution_count": null,
   "id": "bfbd2934-c7ff-4d4e-8aa5-1df2dde548f0",
   "metadata": {},
   "outputs": [],
   "source": [
    "### this execution will take some time to run\n",
    "result = financial_trading_crew.kickoff(inputs=financial_trading_inputs)"
   ]
  },
  {
   "cell_type": "markdown",
   "id": "7f4de41c-be8b-47a5-869d-69480df6f509",
   "metadata": {},
   "source": [
    "- Display the final result as Markdown."
   ]
  },
  {
   "cell_type": "code",
   "execution_count": null,
   "id": "82d81b94-9f3b-4020-ab5f-43d86cf23c8c",
   "metadata": {},
   "outputs": [],
   "source": [
    "from IPython.display import Markdown\n",
    "Markdown(result)"
   ]
  },
  {
   "cell_type": "code",
   "execution_count": null,
   "id": "9d535074-a99e-47ab-b7f4-d4075f60610d",
   "metadata": {},
   "outputs": [],
   "source": []
  }
 ],
 "metadata": {
  "kernelspec": {
   "display_name": "Python 3.12.1",
   "language": "python",
   "name": "python312"
  },
  "language_info": {
   "codemirror_mode": {
    "name": "ipython",
    "version": 3
   },
   "file_extension": ".py",
   "mimetype": "text/x-python",
   "name": "python",
   "nbconvert_exporter": "python",
   "pygments_lexer": "ipython3",
   "version": "3.12.3"
  }
 },
 "nbformat": 4,
 "nbformat_minor": 5
}